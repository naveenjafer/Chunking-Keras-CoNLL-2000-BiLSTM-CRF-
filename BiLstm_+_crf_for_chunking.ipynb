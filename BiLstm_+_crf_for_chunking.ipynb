{
 "cells": [
  {
   "cell_type": "code",
   "execution_count": 1,
   "metadata": {
    "colab": {
     "base_uri": "https://localhost:8080/",
     "height": 1000
    },
    "colab_type": "code",
    "id": "W4ECTMlQrjtp",
    "outputId": "c97b8cf5-a8e1-4206-f034-0b28d8c69fcf"
   },
   "outputs": [
    {
     "name": "stdout",
     "output_type": "stream",
     "text": [
      "Requirement already satisfied: tensorflow==1.15.0 in /usr/local/lib/python3.6/dist-packages (1.15.0)\n",
      "Requirement already satisfied: astor>=0.6.0 in /home/naveen/.local/lib/python3.6/site-packages (from tensorflow==1.15.0) (0.8.1)\n",
      "Requirement already satisfied: numpy<2.0,>=1.16.0 in /usr/local/lib/python3.6/dist-packages (from tensorflow==1.15.0) (1.18.1)\n",
      "Requirement already satisfied: wrapt>=1.11.1 in /home/naveen/.local/lib/python3.6/site-packages (from tensorflow==1.15.0) (1.11.2)\n",
      "Requirement already satisfied: keras-applications>=1.0.8 in /usr/local/lib/python3.6/dist-packages (from tensorflow==1.15.0) (1.0.8)\n",
      "Requirement already satisfied: absl-py>=0.7.0 in /home/naveen/.local/lib/python3.6/site-packages (from tensorflow==1.15.0) (0.9.0)\n",
      "Requirement already satisfied: gast==0.2.2 in /home/naveen/.local/lib/python3.6/site-packages (from tensorflow==1.15.0) (0.2.2)\n",
      "Requirement already satisfied: opt-einsum>=2.3.2 in /home/naveen/.local/lib/python3.6/site-packages (from tensorflow==1.15.0) (3.1.0)\n",
      "Requirement already satisfied: six>=1.10.0 in /home/naveen/.local/lib/python3.6/site-packages (from tensorflow==1.15.0) (1.14.0)\n",
      "Requirement already satisfied: google-pasta>=0.1.6 in /home/naveen/.local/lib/python3.6/site-packages (from tensorflow==1.15.0) (0.1.8)\n",
      "Requirement already satisfied: tensorboard<1.16.0,>=1.15.0 in /usr/local/lib/python3.6/dist-packages (from tensorflow==1.15.0) (1.15.0)\n",
      "Requirement already satisfied: termcolor>=1.1.0 in /home/naveen/.local/lib/python3.6/site-packages (from tensorflow==1.15.0) (1.1.0)\n",
      "Requirement already satisfied: grpcio>=1.8.6 in /home/naveen/.local/lib/python3.6/site-packages (from tensorflow==1.15.0) (1.26.0)\n",
      "Requirement already satisfied: tensorflow-estimator==1.15.1 in /usr/local/lib/python3.6/dist-packages (from tensorflow==1.15.0) (1.15.1)\n",
      "Requirement already satisfied: wheel>=0.26 in /usr/local/lib/python3.6/dist-packages (from tensorflow==1.15.0) (0.33.6)\n",
      "Requirement already satisfied: keras-preprocessing>=1.0.5 in /usr/local/lib/python3.6/dist-packages (from tensorflow==1.15.0) (1.1.0)\n",
      "Requirement already satisfied: protobuf>=3.6.1 in /home/naveen/.local/lib/python3.6/site-packages (from tensorflow==1.15.0) (3.11.2)\n",
      "Requirement already satisfied: h5py in /usr/local/lib/python3.6/dist-packages (from keras-applications>=1.0.8->tensorflow==1.15.0) (2.10.0)\n",
      "Requirement already satisfied: markdown>=2.6.8 in /home/naveen/.local/lib/python3.6/site-packages (from tensorboard<1.16.0,>=1.15.0->tensorflow==1.15.0) (3.1.1)\n",
      "Requirement already satisfied: werkzeug>=0.11.15 in /home/naveen/.local/lib/python3.6/site-packages (from tensorboard<1.16.0,>=1.15.0->tensorflow==1.15.0) (0.16.0)\n",
      "Requirement already satisfied: setuptools>=41.0.0 in /home/naveen/.local/lib/python3.6/site-packages (from tensorboard<1.16.0,>=1.15.0->tensorflow==1.15.0) (45.1.0)\n",
      "\u001b[33mWARNING: You are using pip version 19.3.1; however, version 20.0.2 is available.\n",
      "You should consider upgrading via the 'pip install --upgrade pip' command.\u001b[0m\n",
      "Requirement already satisfied: keras==2.2.4 in /usr/local/lib/python3.6/dist-packages (2.2.4)\n",
      "Requirement already satisfied: scipy>=0.14 in /usr/local/lib/python3.6/dist-packages (from keras==2.2.4) (1.4.1)\n",
      "Requirement already satisfied: keras-preprocessing>=1.0.5 in /usr/local/lib/python3.6/dist-packages (from keras==2.2.4) (1.1.0)\n",
      "Requirement already satisfied: keras-applications>=1.0.6 in /usr/local/lib/python3.6/dist-packages (from keras==2.2.4) (1.0.8)\n",
      "Requirement already satisfied: h5py in /usr/local/lib/python3.6/dist-packages (from keras==2.2.4) (2.10.0)\n",
      "Requirement already satisfied: numpy>=1.9.1 in /usr/local/lib/python3.6/dist-packages (from keras==2.2.4) (1.18.1)\n",
      "Requirement already satisfied: six>=1.9.0 in /home/naveen/.local/lib/python3.6/site-packages (from keras==2.2.4) (1.14.0)\n",
      "Requirement already satisfied: pyyaml in /usr/lib/python3/dist-packages (from keras==2.2.4) (3.12)\n",
      "\u001b[33mWARNING: You are using pip version 19.3.1; however, version 20.0.2 is available.\n",
      "You should consider upgrading via the 'pip install --upgrade pip' command.\u001b[0m\n"
     ]
    }
   ],
   "source": [
    "#! pip install tensorflow==1.15.0\n",
    "#! pip install keras==2.2.4"
   ]
  },
  {
   "cell_type": "code",
   "execution_count": 2,
   "metadata": {
    "colab": {
     "base_uri": "https://localhost:8080/",
     "height": 338
    },
    "colab_type": "code",
    "id": "zh9Sb_IMsrui",
    "outputId": "4065c105-62d8-4431-e7a9-3702643bf2a1"
   },
   "outputs": [
    {
     "name": "stderr",
     "output_type": "stream",
     "text": [
      "Using TensorFlow backend.\n"
     ]
    }
   ],
   "source": [
    "import tensorflow as tf\n",
    "import keras\n",
    "import pandas as pd\n",
    "import numpy as np\n",
    "import matplotlib.pyplot as plt\n",
    "import copy\n",
    "\n",
    "from keras.preprocessing.sequence import pad_sequences\n",
    "from keras.models import Model, Input\n",
    "from keras.layers import LSTM, Embedding, Dense, TimeDistributed, Dropout, Bidirectional\n",
    "from keras_contrib.layers import CRF"
   ]
  },
  {
   "cell_type": "code",
   "execution_count": 3,
   "metadata": {},
   "outputs": [
    {
     "name": "stdout",
     "output_type": "stream",
     "text": [
      "Tensorflow version:  1.15.0\n",
      "Keras version:  2.2.4\n"
     ]
    }
   ],
   "source": [
    "print(\"Tensorflow version: \", tf.__version__)\n",
    "print(\"Keras version: \", keras.__version__)"
   ]
  },
  {
   "cell_type": "code",
   "execution_count": 4,
   "metadata": {
    "colab": {},
    "colab_type": "code",
    "id": "7vZwHzNyszq4"
   },
   "outputs": [],
   "source": [
    "# Hyperparams\n",
    "BATCH_SIZE = 512  # Number of examples used in each iteration\n",
    "EPOCHS = 5  # Number of passes through entire dataset\n",
    "MAX_LEN = 80  # Max length of review (in words)\n",
    "EMBEDDING = 200  # Dimension of word embedding vector"
   ]
  },
  {
   "cell_type": "code",
   "execution_count": 11,
   "metadata": {
    "colab": {
     "base_uri": "https://localhost:8080/",
     "height": 51
    },
    "colab_type": "code",
    "id": "T-Fj-UyuuNDD",
    "outputId": "6a8a4e62-41f7-4920-8ee6-ad37c417aac4"
   },
   "outputs": [
    {
     "name": "stdout",
     "output_type": "stream",
     "text": [
      "Number of Training sentences:\t 8936\n",
      "Number of Testing sentences:\t 2012\n"
     ]
    }
   ],
   "source": [
    "def transform_dataset(fileName):\n",
    "  f_new = open(\"updated_\" + fileName,\"w\")\n",
    "  f = open(fileName, \"r\")\n",
    "  sentenceNumber = 1\n",
    "  writeLineNumber = True\n",
    "  for x in f:\n",
    "    if x == \"\\n\":\n",
    "      sentenceNumber = sentenceNumber + 1\n",
    "    else:\n",
    "      x_list = x.split(\" \")\n",
    "      # uncomment the below block if you only want to train the model for Noun Phrase.\n",
    "      '''if x_list[-1] not in [\"B-NP\\n\", \"I-NP\\n\"]:\n",
    "        x_list[-1] = \"O\\n\"'''\n",
    "      x_new = \" \".join(x_list)\n",
    "      f_new.write(\"Sentence:\" + str(sentenceNumber) + \" \" + x_new )\n",
    "  return(sentenceNumber-1) # the file ends with a \\n\n",
    "\n",
    "\n",
    "print(\"Number of Training sentences:\\t\", transform_dataset(\"train.txt\"))\n",
    "print(\"Number of Testing sentences:\\t\", transform_dataset(\"test.txt\"))\n",
    "# open updated_train.txt and updated_test.txt to see the format to which it has been transformed."
   ]
  },
  {
   "cell_type": "code",
   "execution_count": 13,
   "metadata": {
    "colab": {
     "base_uri": "https://localhost:8080/",
     "height": 85
    },
    "colab_type": "code",
    "id": "EPDkg3Yzs2Nj",
    "outputId": "f7e91a78-ccbe-49fb-cf30-4a2b6e627bf2"
   },
   "outputs": [
    {
     "name": "stdout",
     "output_type": "stream",
     "text": [
      "Number of words in the training dataset:\t19122\n",
      "Number of tags in the training dataset:\t 22\n",
      "The tags are  ['I-NP', 'B-CONJP', 'I-UCP', 'I-VP', 'I-ADJP', 'I-SBAR', 'O', 'B-VP', 'I-PP', 'I-INTJ', 'I-CONJP', 'B-NP', 'B-PP', 'B-ADJP', 'B-ADVP', 'B-LST', 'B-INTJ', 'I-PRT', 'B-PRT', 'B-UCP', 'B-SBAR', 'I-ADVP']\n"
     ]
    }
   ],
   "source": [
    "data = pd.read_csv('updated_train.txt', sep=\" \", header=None)\n",
    "data = data.fillna(method=\"ffill\")\n",
    "\n",
    "data.columns = [\"sentence#\", \"word\", \"ner\", \"chunk\"]\n",
    "\n",
    "words = list(set(data[\"word\"].values))\n",
    "n_words = len(words)\n",
    "print(\"Number of words in the training dataset:\\t\" + str(n_words))\n",
    "tags = list(set(data[\"chunk\"].values))\n",
    "n_tags = len(tags)\n",
    "print(\"Number of tags in the training dataset:\\t\", n_tags)\n",
    "print(\"The tags are \", tags)"
   ]
  },
  {
   "cell_type": "code",
   "execution_count": 14,
   "metadata": {
    "colab": {
     "base_uri": "https://localhost:8080/",
     "height": 85
    },
    "colab_type": "code",
    "id": "ankjYUjmZt6F",
    "outputId": "42c0f5ad-77b3-409a-db80-0fe64061396d"
   },
   "outputs": [
    {
     "name": "stdout",
     "output_type": "stream",
     "text": [
      "Number of words in the testing dataset: 8118\n",
      "Number of tags in the testing dataset:  19\n",
      "The tags are  ['I-NP', 'B-NP', 'B-PP', 'B-INTJ', 'B-LST', 'I-ADJP', 'I-LST', 'I-SBAR', 'B-ADJP', 'B-PRT', 'B-CONJP', 'O', 'B-ADVP', 'B-VP', 'B-SBAR', 'I-PP', 'I-ADVP', 'I-VP', 'I-CONJP']\n"
     ]
    }
   ],
   "source": [
    "data_test = pd.read_csv('updated_test.txt', sep=\" \", header=None)\n",
    "data_test = data_test.fillna(method=\"ffill\")\n",
    "\n",
    "data_test.columns = [\"sentence#\", \"word\", \"ner\", \"chunk\"]\n",
    "\n",
    "words_test = list(set(data_test[\"word\"].values))\n",
    "n_words_test = len(words_test)\n",
    "print(\"Number of words in the testing dataset: \" + str(n_words_test))\n",
    "tags_test = list(set(data_test[\"chunk\"].values))\n",
    "n_tags_test = len(tags_test)\n",
    "print(\"Number of tags in the testing dataset: \", n_tags_test)\n",
    "print(\"The tags are \", tags_test)"
   ]
  },
  {
   "cell_type": "code",
   "execution_count": 15,
   "metadata": {
    "colab": {
     "base_uri": "https://localhost:8080/",
     "height": 400
    },
    "colab_type": "code",
    "id": "x3jqcW7bz2KL",
    "outputId": "7cd7f97a-03d9-4565-8f52-fbd08fa677b9"
   },
   "outputs": [
    {
     "name": "stdout",
     "output_type": "stream",
     "text": [
      "8936\n"
     ]
    },
    {
     "data": {
      "image/png": "[encoded data removed]",
      "text/plain": [
       "<Figure size 432x288 with 1 Axes>"
      ]
     },
     "metadata": {
      "needs_background": "light"
     },
     "output_type": "display_data"
    }
   ],
   "source": [
    "class SentenceGetter(object):\n",
    "    \"\"\"Class to Get the sentence in this format:\n",
    "    [(Token_1, Part_of_Speech_1, Tag_1), ..., (Token_n, Part_of_Speech_1, Tag_1)]\"\"\"\n",
    "    def __init__(self, data):\n",
    "        \"\"\"Args:\n",
    "            data is the pandas.DataFrame which contains the above dataset\"\"\"\n",
    "        self.n_sent = 1\n",
    "        self.data = data\n",
    "        self.empty = False\n",
    "        agg_func = lambda s: [(w, p, t) for w, p, t in zip(s[\"word\"].values.tolist(),\n",
    "                                                           s[\"ner\"].values.tolist(),\n",
    "                                                           s[\"chunk\"].values.tolist())]\n",
    "        self.grouped = self.data.groupby(\"sentence#\", sort=False).apply(agg_func)\n",
    "        #self.grouped.sort_values('sentence#', ascending=True)\n",
    "\n",
    "        self.sentences = [s for s in self.grouped]\n",
    "    \n",
    "    def get_next(self):\n",
    "        \"\"\"Return one sentence\"\"\"\n",
    "        try:\n",
    "            s = self.grouped[\"Sentence: {}\".format(self.n_sent)]\n",
    "            self.n_sent += 1\n",
    "            return s\n",
    "        except:\n",
    "            return None\n",
    "\n",
    "getter = SentenceGetter(data)\n",
    "sent = getter.get_next()\n",
    "sentences = getter.sentences\n",
    "\n",
    "print(len(sentences))\n",
    "plt.hist([len(s) for s in sentences], bins=50)\n",
    "plt.title('Token per sentence')\n",
    "plt.xlabel('Len (number of token)')\n",
    "plt.ylabel('# samples')\n",
    "plt.show()"
   ]
  },
  {
   "cell_type": "code",
   "execution_count": 16,
   "metadata": {
    "colab": {
     "base_uri": "https://localhost:8080/",
     "height": 68
    },
    "colab_type": "code",
    "id": "vaoOnrqZZkwf",
    "outputId": "20131abd-6151-4233-de58-681241032bb3"
   },
   "outputs": [],
   "source": [
    "getter_test = SentenceGetter(data_test)\n",
    "sent_test = getter_test.get_next()\n",
    "\n",
    "sentences_test = getter_test.sentences"
   ]
  },
  {
   "cell_type": "code",
   "execution_count": 17,
   "metadata": {
    "colab": {
     "base_uri": "https://localhost:8080/",
     "height": 34
    },
    "colab_type": "code",
    "id": "zV_oUq1a0Zek",
    "outputId": "e057aced-78a5-4165-ee00-12ac82e01e6f"
   },
   "outputs": [
    {
     "name": "stdout",
     "output_type": "stream",
     "text": [
      "The word commitment is identified by the index: 8441\n"
     ]
    }
   ],
   "source": [
    "# Vocabulary Key:word -> Value:token_index\n",
    "# The first 2 entries are reserved for PAD and UNK\n",
    "word2idx = {w: i + 2 for i, w in enumerate(words)}\n",
    "word2idx[\"UNK\"] = 1 # Unknown words\n",
    "word2idx[\"PAD\"] = 0 # Padding\n",
    "# Vocabulary Key:token_index -> Value:word\n",
    "idx2word = {i: w for w, i in word2idx.items()}\n",
    "print(\"The word commitment is identified by the index: {}\".format(word2idx[\"Confidence\"]))"
   ]
  },
  {
   "cell_type": "code",
   "execution_count": 18,
   "metadata": {
    "colab": {
     "base_uri": "https://localhost:8080/",
     "height": 34
    },
    "colab_type": "code",
    "id": "usHCRHBt0iC3",
    "outputId": "861b9cdf-de4f-4334-abb0-29a4c1a9e941"
   },
   "outputs": [
    {
     "name": "stdout",
     "output_type": "stream",
     "text": [
      "The labels B-NP is identified by the index: 12\n"
     ]
    }
   ],
   "source": [
    "# Vocabulary Key:Label/Tag -> Value:tag_index\n",
    "# The first entry is reserved for PAD\n",
    "tag2idx = {t: i+1 for i, t in enumerate(tags)}\n",
    "tag2idx[\"PAD\"] = 0\n",
    "# Vocabulary Key:tag_index -> Value:Label/Tag\n",
    "idx2tag = {i: w for w, i in tag2idx.items()}\n",
    "print(\"The labels B-NP is identified by the index: {}\".format(tag2idx[\"B-NP\"]))"
   ]
  },
  {
   "cell_type": "code",
   "execution_count": 19,
   "metadata": {
    "colab": {
     "base_uri": "https://localhost:8080/",
     "height": 1000
    },
    "colab_type": "code",
    "id": "rPZctZZf0q4L",
    "outputId": "2c2e2e00-8992-466f-b665-e1bcaa695ecc"
   },
   "outputs": [
    {
     "name": "stdout",
     "output_type": "stream",
     "text": [
      "<class 'numpy.ndarray'>\n",
      "Raw Sample:  Rockwell International Corp. 's Tulsa unit said it signed a tentative agreement extending its contract with Boeing Co. to provide structural parts for Boeing 's 747 jetliners .\n",
      "Raw Label:  B-NP I-NP I-NP B-NP I-NP I-NP B-VP B-NP B-VP B-NP I-NP I-NP B-VP B-NP I-NP B-PP B-NP I-NP B-VP I-VP B-NP I-NP B-PP B-NP B-NP I-NP I-NP O\n",
      "After processing, sample: [ 8441  1435 17095 17882 17075  2073  8335 17649  5540 14390 18133  2352\n",
      " 16452  4626  2081   363  5815 13860  5408   363  7352  3429 13860  9347\n",
      " 17649 15744 11471 11726 13430 13743 16656  2078 17421  7125  8334 10037\n",
      " 13680     0     0     0     0     0     0     0     0     0     0     0\n",
      "     0     0     0     0     0     0     0     0     0     0     0     0\n",
      "     0     0     0     0     0     0     0     0     0     0     0     0\n",
      "     0     0     0     0     0     0     0     0]\n",
      "After processing, labels: [[0. 0. 0. ... 0. 0. 0.]\n",
      " [0. 0. 0. ... 0. 0. 0.]\n",
      " [0. 0. 0. ... 0. 0. 0.]\n",
      " ...\n",
      " [1. 0. 0. ... 0. 0. 0.]\n",
      " [1. 0. 0. ... 0. 0. 0.]\n",
      " [1. 0. 0. ... 0. 0. 0.]]\n"
     ]
    }
   ],
   "source": [
    "# Convert each sentence from list of Token to list of word_index\n",
    "X_tr= [[word2idx[w[0]] for w in s] for s in sentences]\n",
    "# Padding each sentence to have the same lenght\n",
    "X_tr = pad_sequences(maxlen=MAX_LEN, sequences=X_tr, padding=\"post\", value=word2idx[\"PAD\"])\n",
    "print(type(X_tr[0]))\n",
    "# Convert Tag/Label to tag_index\n",
    "y_tr = [[tag2idx[w[2]] for w in s] for s in sentences]\n",
    "# Padding each sentence to have the same lenght\n",
    "y_tr = pad_sequences(maxlen=MAX_LEN, sequences=y_tr, padding=\"post\", value=tag2idx[\"PAD\"])\n",
    "\n",
    "from keras.utils import to_categorical\n",
    "# One-Hot encode\n",
    "y_tr = [to_categorical(i, num_classes=n_tags+1) for i in y_tr]  # n_tags+1(PAD)\n",
    "\n",
    "X_te = []\n",
    "\n",
    "for s in sentences_test:\n",
    "    temp = []\n",
    "    for w in s:\n",
    "        if w[0] in word2idx:\n",
    "            temp.append(word2idx[w[0]])\n",
    "        else:\n",
    "            temp.append(word2idx[\"UNK\"])\n",
    "    temp = np.array(temp)\n",
    "    X_te.append(temp)\n",
    "\n",
    "    \n",
    "X_te = np.array(X_te)\n",
    "#X_te = [[word2idx[w[0]] for w in s] for s in sentences_test]\n",
    "X_te = pad_sequences(maxlen=MAX_LEN, sequences=X_te, padding=\"post\", value = word2idx[\"PAD\"])\n",
    "\n",
    "y_te = []\n",
    "\n",
    "for s in sentences_test:\n",
    "    temp = []\n",
    "    for w in s:\n",
    "        if w[2] in tag2idx:\n",
    "            temp.append(tag2idx[w[2]])\n",
    "        else:\n",
    "            temp.append(tag2idx[\"O\"])\n",
    "    #temp = np.array(temp)\n",
    "    y_te.append(temp)\n",
    "    \n",
    "#y_te = [[tag2idx[w[2]] for w in s] for s in sentences_test]\n",
    "# Padding each sentence to have the same lenght\n",
    "y_te = pad_sequences(maxlen=MAX_LEN, sequences=y_te, padding=\"post\", value=tag2idx[\"PAD\"])\n",
    "y_te = [to_categorical(i, num_classes=n_tags+1) for i in y_te]  # n_tags+1(PAD)\n",
    "\n",
    "print('Raw Sample: ', ' '.join([w[0] for w in sentences_test[0]]))\n",
    "print('Raw Label: ', ' '.join([w[2] for w in sentences_test[0]]))\n",
    "print('After processing, sample:', X_tr[0])\n",
    "print('After processing, labels:', y_tr[0])"
   ]
  },
  {
   "cell_type": "code",
   "execution_count": 20,
   "metadata": {
    "colab": {
     "base_uri": "https://localhost:8080/",
     "height": 394
    },
    "colab_type": "code",
    "id": "1UUp4dZW2cSn",
    "outputId": "d69d8152-458f-4fcb-b408-725e61d0f4ac"
   },
   "outputs": [
    {
     "name": "stdout",
     "output_type": "stream",
     "text": [
      "WARNING:tensorflow:From /usr/local/lib/python3.6/dist-packages/keras/backend/tensorflow_backend.py:74: The name tf.get_default_graph is deprecated. Please use tf.compat.v1.get_default_graph instead.\n",
      "\n",
      "WARNING:tensorflow:From /usr/local/lib/python3.6/dist-packages/keras/backend/tensorflow_backend.py:517: The name tf.placeholder is deprecated. Please use tf.compat.v1.placeholder instead.\n",
      "\n",
      "WARNING:tensorflow:From /usr/local/lib/python3.6/dist-packages/keras/backend/tensorflow_backend.py:4138: The name tf.random_uniform is deprecated. Please use tf.random.uniform instead.\n",
      "\n",
      "WARNING:tensorflow:From /usr/local/lib/python3.6/dist-packages/keras/backend/tensorflow_backend.py:133: The name tf.placeholder_with_default is deprecated. Please use tf.compat.v1.placeholder_with_default instead.\n",
      "\n",
      "WARNING:tensorflow:From /usr/local/lib/python3.6/dist-packages/keras/backend/tensorflow_backend.py:3445: calling dropout (from tensorflow.python.ops.nn_ops) with keep_prob is deprecated and will be removed in a future version.\n",
      "Instructions for updating:\n",
      "Please use `rate` instead of `keep_prob`. Rate should be set to `rate = 1 - keep_prob`.\n",
      "WARNING:tensorflow:From /usr/local/lib/python3.6/dist-packages/keras/backend/tensorflow_backend.py:2974: where (from tensorflow.python.ops.array_ops) is deprecated and will be removed in a future version.\n",
      "Instructions for updating:\n",
      "Use tf.where in 2.0, which has the same broadcast rule as np.where\n",
      "WARNING:tensorflow:From /usr/local/lib/python3.6/dist-packages/keras/optimizers.py:790: The name tf.train.Optimizer is deprecated. Please use tf.compat.v1.train.Optimizer instead.\n",
      "\n"
     ]
    },
    {
     "name": "stderr",
     "output_type": "stream",
     "text": [
      "/usr/local/lib/python3.6/dist-packages/keras_contrib/layers/crf.py:346: UserWarning: CRF.loss_function is deprecated and it might be removed in the future. Please use losses.crf_loss instead.\n",
      "  warnings.warn('CRF.loss_function is deprecated '\n",
      "/usr/local/lib/python3.6/dist-packages/keras_contrib/layers/crf.py:353: UserWarning: CRF.accuracy is deprecated and it might be removed in the future. Please use metrics.crf_accuracy\n",
      "  warnings.warn('CRF.accuracy is deprecated and it '\n"
     ]
    },
    {
     "name": "stdout",
     "output_type": "stream",
     "text": [
      "_________________________________________________________________\n",
      "Layer (type)                 Output Shape              Param #   \n",
      "=================================================================\n",
      "input_1 (InputLayer)         (None, 80)                0         \n",
      "_________________________________________________________________\n",
      "embedding_1 (Embedding)      (None, 80, 200)           3824800   \n",
      "_________________________________________________________________\n",
      "bidirectional_1 (Bidirection (None, 80, 100)           100400    \n",
      "_________________________________________________________________\n",
      "time_distributed_1 (TimeDist (None, 80, 50)            5050      \n",
      "_________________________________________________________________\n",
      "crf_1 (CRF)                  (None, 80, 23)            1748      \n",
      "=================================================================\n",
      "Total params: 3,931,998\n",
      "Trainable params: 3,931,998\n",
      "Non-trainable params: 0\n",
      "_________________________________________________________________\n"
     ]
    }
   ],
   "source": [
    "# Model definition\n",
    "input = Input(shape=(MAX_LEN,))\n",
    "model = Embedding(input_dim=n_words+2, output_dim=EMBEDDING, # n_words + 2 (PAD & UNK)\n",
    "                  input_length=MAX_LEN, mask_zero=True)(input)  # default: 20-dim embedding\n",
    "model = Bidirectional(LSTM(units=50, return_sequences=True,\n",
    "                           recurrent_dropout=0.1))(model)  # variational biLSTM\n",
    "model = TimeDistributed(Dense(50, activation=\"relu\"))(model)  # a dense layer as suggested by neuralNer\n",
    "crf = CRF(n_tags+1)  # CRF layer, n_tags+1(PAD)\n",
    "out = crf(model)  # output\n",
    "\n",
    "model = Model(input, out)\n",
    "model.compile(optimizer=\"rmsprop\", loss=crf.loss_function, metrics=[crf.accuracy])\n",
    "\n",
    "model.summary()"
   ]
  },
  {
   "cell_type": "code",
   "execution_count": 21,
   "metadata": {
    "colab": {
     "base_uri": "https://localhost:8080/",
     "height": 544
    },
    "colab_type": "code",
    "id": "UJckh8yZ2g57",
    "outputId": "b3e1086c-63da-432f-c45b-fdbf531c605a"
   },
   "outputs": [
    {
     "name": "stdout",
     "output_type": "stream",
     "text": [
      "WARNING:tensorflow:From /usr/local/lib/python3.6/dist-packages/keras/backend/tensorflow_backend.py:986: The name tf.assign_add is deprecated. Please use tf.compat.v1.assign_add instead.\n",
      "\n",
      "WARNING:tensorflow:From /usr/local/lib/python3.6/dist-packages/keras/backend/tensorflow_backend.py:973: The name tf.assign is deprecated. Please use tf.compat.v1.assign instead.\n",
      "\n",
      "WARNING:tensorflow:From /usr/local/lib/python3.6/dist-packages/keras/backend/tensorflow_backend.py:2741: The name tf.Session is deprecated. Please use tf.compat.v1.Session instead.\n",
      "\n",
      "Epoch 1/20\n",
      "WARNING:tensorflow:From /usr/local/lib/python3.6/dist-packages/keras/backend/tensorflow_backend.py:174: The name tf.get_default_session is deprecated. Please use tf.compat.v1.get_default_session instead.\n",
      "\n",
      "WARNING:tensorflow:From /usr/local/lib/python3.6/dist-packages/keras/backend/tensorflow_backend.py:181: The name tf.ConfigProto is deprecated. Please use tf.compat.v1.ConfigProto instead.\n",
      "\n",
      "WARNING:tensorflow:From /usr/local/lib/python3.6/dist-packages/keras/backend/tensorflow_backend.py:190: The name tf.global_variables is deprecated. Please use tf.compat.v1.global_variables instead.\n",
      "\n",
      "WARNING:tensorflow:From /usr/local/lib/python3.6/dist-packages/keras/backend/tensorflow_backend.py:199: The name tf.is_variable_initialized is deprecated. Please use tf.compat.v1.is_variable_initialized instead.\n",
      "\n",
      "WARNING:tensorflow:From /usr/local/lib/python3.6/dist-packages/keras/backend/tensorflow_backend.py:206: The name tf.variables_initializer is deprecated. Please use tf.compat.v1.variables_initializer instead.\n",
      "\n",
      " - 11s - loss: 14.3715 - crf_viterbi_accuracy: 0.2419\n",
      "Epoch 2/20\n",
      " - 10s - loss: 13.6363 - crf_viterbi_accuracy: 0.3854\n",
      "Epoch 3/20\n",
      " - 9s - loss: 13.2868 - crf_viterbi_accuracy: 0.5237\n",
      "Epoch 4/20\n",
      " - 9s - loss: 12.8571 - crf_viterbi_accuracy: 0.7205\n",
      "Epoch 5/20\n",
      " - 9s - loss: 12.5485 - crf_viterbi_accuracy: 0.8109\n",
      "Epoch 6/20\n",
      " - 9s - loss: 12.3678 - crf_viterbi_accuracy: 0.8604\n",
      "Epoch 7/20\n",
      " - 10s - loss: 12.2589 - crf_viterbi_accuracy: 0.8883\n",
      "Epoch 8/20\n",
      " - 9s - loss: 12.1865 - crf_viterbi_accuracy: 0.9050\n",
      "Epoch 9/20\n",
      " - 9s - loss: 12.1355 - crf_viterbi_accuracy: 0.9185\n",
      "Epoch 10/20\n",
      " - 9s - loss: 12.0983 - crf_viterbi_accuracy: 0.9283\n",
      "Epoch 11/20\n",
      " - 9s - loss: 12.0675 - crf_viterbi_accuracy: 0.9370\n",
      "Epoch 12/20\n",
      " - 9s - loss: 12.0415 - crf_viterbi_accuracy: 0.9438\n",
      "Epoch 13/20\n",
      " - 9s - loss: 12.0237 - crf_viterbi_accuracy: 0.9483\n",
      "Epoch 14/20\n",
      " - 9s - loss: 12.0056 - crf_viterbi_accuracy: 0.9538\n",
      "Epoch 15/20\n",
      " - 9s - loss: 11.9927 - crf_viterbi_accuracy: 0.9571\n",
      "Epoch 16/20\n",
      " - 9s - loss: 11.9806 - crf_viterbi_accuracy: 0.9603\n",
      "Epoch 17/20\n",
      " - 9s - loss: 11.9703 - crf_viterbi_accuracy: 0.9630\n",
      "Epoch 18/20\n",
      " - 9s - loss: 11.9601 - crf_viterbi_accuracy: 0.9655\n",
      "Epoch 19/20\n",
      " - 9s - loss: 11.9517 - crf_viterbi_accuracy: 0.9679\n",
      "Epoch 20/20\n",
      " - 10s - loss: 11.9442 - crf_viterbi_accuracy: 0.9698\n"
     ]
    }
   ],
   "source": [
    "history = model.fit(X_tr, np.array(y_tr), batch_size=BATCH_SIZE, epochs=20, verbose=2)"
   ]
  },
  {
   "cell_type": "code",
   "execution_count": 22,
   "metadata": {},
   "outputs": [],
   "source": [
    "pred_cat = model.predict(X_te)\n",
    "pred = np.argmax(pred_cat, axis=-1)\n",
    "y_te_true = np.argmax(y_te, axis=-1)"
   ]
  },
  {
   "cell_type": "code",
   "execution_count": 23,
   "metadata": {},
   "outputs": [
    {
     "name": "stdout",
     "output_type": "stream",
     "text": [
      "Writing  2012  sentences\n",
      "49389\n"
     ]
    }
   ],
   "source": [
    "def writeToPredictedFile():\n",
    "    f_new = open(\"predicted_test.txt\",\"w\")\n",
    "    count = 0\n",
    "    print(\"Writing \", len(sentences_test), \" sentences\")\n",
    "    for index,s in enumerate(sentences_test):\n",
    "        for word_index, word in enumerate(s):\n",
    "            #print(word)\n",
    "            f_new.write(word[0] + \" \" + word[1] + \" \" + idx2tag[pred[index][word_index]] + \"\\n\")\n",
    "            count = count + 1\n",
    "        f_new.write(\"\\n\")\n",
    "        count = count + 1\n",
    "    print(count)\n",
    "writeToPredictedFile()"
   ]
  },
  {
   "cell_type": "markdown",
   "metadata": {},
   "source": [
    "Now that we have obtained the predicted tags in BIO format, we will aggregate the results and find the F score on the NPs."
   ]
  },
  {
   "cell_type": "code",
   "execution_count": 24,
   "metadata": {},
   "outputs": [],
   "source": [
    "def createNPs(fileName):\n",
    "    with open(fileName) as fp:\n",
    "        line = fp.readline()\n",
    "        count = 0\n",
    "        sentenceList = []\n",
    "        sentCount = 0\n",
    "        NPstarted = False\n",
    "        NPList = []\n",
    "        listWithWordAndPhraseTag = []\n",
    "        sentenceLevelListWithWordAndPhraseTag = []\n",
    "        sentence = \"\"\n",
    "        runningNP = \"\"\n",
    "        while line:\n",
    "            lineList = line.split(\" \")\n",
    "            if line.strip() == \"\":\n",
    "                if runningNP != \"\":\n",
    "                    NPList.append(runningNP)\n",
    "\n",
    "                tempObj = {\"sentence\" : sentence.strip(), \"NPList\" : copy.deepcopy(NPList)}\n",
    "                sentenceList.append(tempObj)\n",
    "                sentCount = sentCount + 1\n",
    "                NPstarted = False\n",
    "                NPList = []\n",
    "                runningNP = \"\"\n",
    "                sentence = \"\"\n",
    "                line = fp.readline()\n",
    "                listWithWordAndPhraseTag.append(copy.deepcopy(sentenceLevelListWithWordAndPhraseTag))\n",
    "                sentenceLevelListWithWordAndPhraseTag = []\n",
    "                count = count + 1\n",
    "                continue\n",
    "\n",
    "            word = lineList[0]\n",
    "            POS = lineList[1]\n",
    "            POS = POS.strip()\n",
    "            NP = lineList[2]\n",
    "            NP = NP.strip()\n",
    "            sentenceLevelListWithWordAndPhraseTag.append([word, NP])\n",
    "            if NP == \"B-NP\" and NPstarted == False:\n",
    "                #print(\"came here\")\n",
    "                NPstarted = True\n",
    "                runningNP = word\n",
    "            else:\n",
    "                if NPstarted == True and (NP == \"I-NP\" or (NP == \"B-NP\" and POS == \"POS\")):\n",
    "                    #print(\"came here \")\n",
    "                    if POS == \"POS\" or POS == \".\" or POS == \",\":\n",
    "                        runningNP = runningNP + word\n",
    "                    else:\n",
    "                        runningNP = runningNP + \" \" + word\n",
    "\n",
    "                elif NPstarted == True and NP != \"I-NP\":\n",
    "                    #print(\"came in elif\")\n",
    "                    NPstarted = False\n",
    "                    NPList.append(runningNP.strip())\n",
    "                    runningNP = \"\"\n",
    "                    if NP == \"B-NP\":\n",
    "                        NPstarted = True\n",
    "                        runningNP = word\n",
    "\n",
    "            if POS == \"POS\" or POS == \".\" or POS == \",\":\n",
    "                sentence = sentence + word\n",
    "            else:\n",
    "                sentence = sentence + \" \" + word\n",
    "\n",
    "            count = count + 1\n",
    "            line = fp.readline()\n",
    "        print(\"Processed \", count, \" lines\")\n",
    "        return (listWithWordAndPhraseTag, sentenceList)"
   ]
  },
  {
   "cell_type": "code",
   "execution_count": 25,
   "metadata": {},
   "outputs": [
    {
     "name": "stdout",
     "output_type": "stream",
     "text": [
      "Processed  49389  lines\n"
     ]
    }
   ],
   "source": [
    "listWithWordAndPhraseTag_ground, sentenceList_ground = createNPs(\"test.txt\")"
   ]
  },
  {
   "cell_type": "code",
   "execution_count": 26,
   "metadata": {},
   "outputs": [
    {
     "name": "stdout",
     "output_type": "stream",
     "text": [
      "Processed  49389  lines\n"
     ]
    }
   ],
   "source": [
    "listWithWordAndPhraseTag_eval, sentenceList_eval = createNPs(\"predicted_test.txt\")"
   ]
  },
  {
   "cell_type": "code",
   "execution_count": 27,
   "metadata": {},
   "outputs": [
    {
     "name": "stdout",
     "output_type": "stream",
     "text": [
      "2012 2012\n"
     ]
    }
   ],
   "source": [
    "print(len(sentenceList_ground), len(sentenceList_eval))\n",
    "assert len(sentenceList_ground) == len(sentenceList_eval)"
   ]
  },
  {
   "cell_type": "code",
   "execution_count": 28,
   "metadata": {},
   "outputs": [],
   "source": [
    "totalChunksGroundTruth = 0\n",
    "totalChunksPredicted = 0\n",
    "totalCorrectChunksPredicted = 0\n",
    "deviations = []"
   ]
  },
  {
   "cell_type": "code",
   "execution_count": 29,
   "metadata": {},
   "outputs": [],
   "source": [
    "for index,item in enumerate(sentenceList_ground):\n",
    "    NPList_ground = item[\"NPList\"]\n",
    "    NPList_eval = sentenceList_eval[index][\"NPList\"]\n",
    "    totalChunksGroundTruth = totalChunksGroundTruth + len(NPList_ground)\n",
    "    totalChunksPredicted = totalChunksPredicted + len(NPList_eval)\n",
    "    \n",
    "    for predictedNP in NPList_eval:\n",
    "        if predictedNP in NPList_ground:\n",
    "            totalCorrectChunksPredicted = totalCorrectChunksPredicted + 1\n",
    "    \n",
    "    if NPList_ground != NPList_eval:\n",
    "        deviations.append(index)\n",
    "        "
   ]
  },
  {
   "cell_type": "code",
   "execution_count": 30,
   "metadata": {},
   "outputs": [
    {
     "name": "stdout",
     "output_type": "stream",
     "text": [
      "Precision: \t86.6644412918301\n",
      "Recall: \t86.60662163289133\n",
      "F Score: \t86.63552181529991\n"
     ]
    }
   ],
   "source": [
    "precision = (totalCorrectChunksPredicted/totalChunksPredicted)*100\n",
    "print(\"Precision: \\t\" + str(precision))\n",
    "\n",
    "recall = (totalCorrectChunksPredicted/totalChunksGroundTruth)*100\n",
    "print(\"Recall: \\t\" + str(recall))\n",
    "\n",
    "FScore = 2 * ((precision * recall)/(precision + recall))\n",
    "print(\"F Score: \\t\" + str(FScore))"
   ]
  },
  {
   "cell_type": "code",
   "execution_count": null,
   "metadata": {},
   "outputs": [],
   "source": [
    "# Print the below line if you want a list of indexes of sentences that have deviated from the ground truth.\n",
    "# You can use this to analyze sentences as done in the next block.\n",
    "#print(deviations)"
   ]
  },
  {
   "cell_type": "code",
   "execution_count": null,
   "metadata": {},
   "outputs": [],
   "source": [
    "# in testIndex, feed the index of a sentence that you would like to evaluate.\n",
    "testIndex = 2\n",
    "print(\"Ground Truth:\")\n",
    "print(sentenceList_ground[testIndex][\"NPList\"])\n",
    "\n",
    "print(\"Predicted:\")\n",
    "print(sentenceList_eval[testIndex][\"NPList\"])"
   ]
  },
  {
   "cell_type": "markdown",
   "metadata": {},
   "source": [
    "# Fine grained evaluation of the tags assigned."
   ]
  },
  {
   "cell_type": "markdown",
   "metadata": {},
   "source": [
    "This part is optional and charts out the fine grained accuracies of the labels. You could use this to obtain a finer understanding of which tags have not been predicted correctly the most times and other analysis that could help you better the model."
   ]
  },
  {
   "cell_type": "code",
   "execution_count": null,
   "metadata": {
    "colab": {},
    "colab_type": "code",
    "id": "gUpQGitV2rOT"
   },
   "outputs": [],
   "source": [
    "#! pip -q install git+https://www.github.com/keras-team/keras-contrib.git sklearn-crfsuite"
   ]
  },
  {
   "cell_type": "code",
   "execution_count": null,
   "metadata": {},
   "outputs": [],
   "source": [
    "'''from sklearn_crfsuite.metrics import flat_classification_report\n",
    "\n",
    "# Convert the index to tag\n",
    "pred_tag = [[idx2tag[i] for i in row] for row in pred]\n",
    "y_te_true_tag = [[idx2tag[i] for i in row] for row in y_te_true] \n",
    "\n",
    "report = flat_classification_report(y_pred=pred_tag, y_true=y_te_true_tag)\n",
    "print(report)'''"
   ]
  },
  {
   "cell_type": "code",
   "execution_count": null,
   "metadata": {},
   "outputs": [],
   "source": []
  }
 ],
 "metadata": {
  "accelerator": "GPU",
  "colab": {
   "collapsed_sections": [],
   "name": "BiLstm + crf for chunking",
   "provenance": []
  },
  "kernelspec": {
   "display_name": "Python 3",
   "language": "python",
   "name": "python3"
  },
  "language_info": {
   "codemirror_mode": {
    "name": "ipython",
    "version": 3
   },
   "file_extension": ".py",
   "mimetype": "text/x-python",
   "name": "python",
   "nbconvert_exporter": "python",
   "pygments_lexer": "ipython3",
   "version": "3.6.9"
  }
 },
 "nbformat": 4,
 "nbformat_minor": 1
}
